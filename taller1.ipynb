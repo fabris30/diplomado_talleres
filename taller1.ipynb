{
 "cells": [
  {
   "cell_type": "markdown",
   "id": "4ea6ce33",
   "metadata": {},
   "source": [
    "## Taller 1\n",
    "## Miguel Fabris Avila\n",
    "cc: 1063719267\n",
    "miguel.fabris@upb.edu.co\n",
    "ID: 502243"
   ]
  },
  {
   "cell_type": "code",
   "execution_count": 88,
   "id": "7ed94be9",
   "metadata": {},
   "outputs": [
    {
     "name": "stdout",
     "output_type": "stream",
     "text": [
      "Ingrese el nombre del artista: Bunny\n",
      "Ingrese el numero de canciones que desee: 5\n",
      "\n",
      "Amor voy a encerderte suave todo el dia\n",
      "Bebe yo puedo amarte lento toda la noche\n",
      "Bebe yo quiero jugar rapido toda la noche\n",
      "Estrella yo vengo a amarte lento toda la noche\n",
      "Caramelo yo quiero ligar lento hasta el amanecer\n",
      "\n",
      " Artista : Bunny\n"
     ]
    }
   ],
   "source": [
    "import random\n",
    "def compositor(numero_canciones,artista):\n",
    "    sujeto = [\"Mami\", \"Bebe\", \"Princesa\", \"Amor\", \"Caramelo\", \"Estrella\"]\n",
    "    comp1 = [\"yo quiero\", \"yo puedo\", \"yo vengo a\", \"voy a\"]\n",
    "    accion = [\"encerderte\", \"amarte\", \"ligar\", \"jugar\", \"chingar\"]\n",
    "    complemento = [\"suave\", \"lento\", \"rapido\", \"fuerte\"]\n",
    "    comp2 = [\"hasta que salga el sol\", \"toda la noche\", \"hasta el amanecer\", \"todo el dia\"]\n",
    "    \n",
    "    lines = numero_canciones\n",
    "    line = 0\n",
    "    cancion = ''\n",
    "    while line < lines:\n",
    "        x_1 = random.randint(0, len(sujeto)-1)\n",
    "        x_2 = random.randint(0, len(comp1)-1)\n",
    "        x_3 = random.randint(0, len(accion)-1)\n",
    "        x_4 = random.randint(0, len(complemento)-1)\n",
    "        x_5 = random.randint(0, len(comp2)-1)\n",
    "        cancion += '\\n' + sujeto[x_1] + ' ' + comp1[x_2] + ' ' + accion[x_3] + ' ' + complemento[x_4] + ' ' + comp2[x_5]\n",
    "        line += 1\n",
    "   \n",
    "    return cancion+ \"\\n\\n Artista : \"+artista\n",
    "\n",
    "\n",
    "## pedimos el artista y el numero de composiciones \n",
    "artista=str(input('Ingrese el nombre del artista: '))\n",
    "numero_canciones=int(input('Ingrese el numero de canciones que desee: '))\n",
    "canciones=compositor(numero_canciones,artista)  \n",
    "print(canciones)"
   ]
  },
  {
   "cell_type": "code",
   "execution_count": 77,
   "id": "27918465",
   "metadata": {},
   "outputs": [],
   "source": []
  }
 ],
 "metadata": {
  "kernelspec": {
   "display_name": "Python 3 (ipykernel)",
   "language": "python",
   "name": "python3"
  },
  "language_info": {
   "codemirror_mode": {
    "name": "ipython",
    "version": 3
   },
   "file_extension": ".py",
   "mimetype": "text/x-python",
   "name": "python",
   "nbconvert_exporter": "python",
   "pygments_lexer": "ipython3",
   "version": "3.9.12"
  }
 },
 "nbformat": 4,
 "nbformat_minor": 5
}
